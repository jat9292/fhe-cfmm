{
 "cells": [
  {
   "cell_type": "code",
   "execution_count": 1,
   "id": "2407c18c",
   "metadata": {},
   "outputs": [
    {
     "data": {
      "text/plain": [
       "4294967296"
      ]
     },
     "execution_count": 1,
     "metadata": {},
     "output_type": "execute_result"
    }
   ],
   "source": [
    "2**32"
   ]
  },
  {
   "cell_type": "code",
   "execution_count": 2,
   "id": "64f2545b",
   "metadata": {},
   "outputs": [
    {
     "data": {
      "text/plain": [
       "65536"
      ]
     },
     "execution_count": 2,
     "metadata": {},
     "output_type": "execute_result"
    }
   ],
   "source": [
    "2**16"
   ]
  },
  {
   "cell_type": "code",
   "execution_count": 3,
   "id": "e888f7c8",
   "metadata": {},
   "outputs": [],
   "source": [
    "import math"
   ]
  },
  {
   "cell_type": "code",
   "execution_count": 5,
   "id": "c633b662",
   "metadata": {},
   "outputs": [
    {
     "data": {
      "text/plain": [
       "1.0"
      ]
     },
     "execution_count": 5,
     "metadata": {},
     "output_type": "execute_result"
    }
   ],
   "source": [
    "math.log2(2)"
   ]
  },
  {
   "cell_type": "code",
   "execution_count": 7,
   "id": "4a9faae7",
   "metadata": {},
   "outputs": [
    {
     "data": {
      "text/plain": [
       "7.272540897341713"
      ]
     },
     "execution_count": 7,
     "metadata": {},
     "output_type": "execute_result"
    }
   ],
   "source": [
    "math.log(2)/math.log(1.1)"
   ]
  },
  {
   "cell_type": "code",
   "execution_count": 8,
   "id": "2fbdd955",
   "metadata": {},
   "outputs": [
    {
     "data": {
      "text/plain": [
       "116.36065435746741"
      ]
     },
     "execution_count": 8,
     "metadata": {},
     "output_type": "execute_result"
    }
   ],
   "source": [
    "math.log(65536)/math.log(1.1)"
   ]
  },
  {
   "cell_type": "code",
   "execution_count": 9,
   "id": "3a65cbd9",
   "metadata": {},
   "outputs": [
    {
     "data": {
      "text/plain": [
       "32768"
      ]
     },
     "execution_count": 9,
     "metadata": {},
     "output_type": "execute_result"
    }
   ],
   "source": [
    "2**15"
   ]
  },
  {
   "cell_type": "code",
   "execution_count": 59,
   "id": "0d87d762",
   "metadata": {},
   "outputs": [
    {
     "data": {
      "text/plain": [
       "65536"
      ]
     },
     "execution_count": 59,
     "metadata": {},
     "output_type": "execute_result"
    }
   ],
   "source": [
    "2**16"
   ]
  },
  {
   "cell_type": "code",
   "execution_count": 11,
   "id": "97a0f2a0",
   "metadata": {},
   "outputs": [
    {
     "data": {
      "text/plain": [
       "4294967296"
      ]
     },
     "execution_count": 11,
     "metadata": {},
     "output_type": "execute_result"
    }
   ],
   "source": [
    "(2**16)*(2**16)"
   ]
  },
  {
   "cell_type": "code",
   "execution_count": null,
   "id": "c3fe4727",
   "metadata": {},
   "outputs": [],
   "source": [
    "0..116"
   ]
  },
  {
   "cell_type": "code",
   "execution_count": 25,
   "id": "b066ac6a",
   "metadata": {},
   "outputs": [
    {
     "data": {
      "text/plain": [
       "161"
      ]
     },
     "execution_count": 25,
     "metadata": {},
     "output_type": "execute_result"
    }
   ],
   "source": [
    "(11**5)*100//10**5"
   ]
  },
  {
   "cell_type": "code",
   "execution_count": 24,
   "id": "df9f657a",
   "metadata": {},
   "outputs": [
    {
     "data": {
      "text/plain": [
       "1.6105100000000006"
      ]
     },
     "execution_count": 24,
     "metadata": {},
     "output_type": "execute_result"
    }
   ],
   "source": [
    "1.1**5"
   ]
  },
  {
   "cell_type": "code",
   "execution_count": 41,
   "id": "de29d8f8",
   "metadata": {},
   "outputs": [
    {
     "data": {
      "text/plain": [
       "23579"
      ]
     },
     "execution_count": 41,
     "metadata": {},
     "output_type": "execute_result"
    }
   ],
   "source": [
    "binIndex = 9\n",
    "precision = 4\n",
    "((10**precision)*(11**binIndex))//(10**binIndex)"
   ]
  },
  {
   "cell_type": "code",
   "execution_count": 57,
   "id": "3a4387b1",
   "metadata": {},
   "outputs": [
    {
     "data": {
      "text/plain": [
       "0.0"
      ]
     },
     "execution_count": 57,
     "metadata": {},
     "output_type": "execute_result"
    }
   ],
   "source": [
    "binIndex=0\n",
    "((1e5*(11**binIndex))//(10**binIndex))//(((1e5*(11**115))//(10**115)))"
   ]
  },
  {
   "cell_type": "code",
   "execution_count": 53,
   "id": "da6230f2",
   "metadata": {},
   "outputs": [
    {
     "data": {
      "text/plain": [
       "1.5792414039632837e-05"
      ]
     },
     "execution_count": 53,
     "metadata": {},
     "output_type": "execute_result"
    }
   ],
   "source": [
    "1.1**-116"
   ]
  },
  {
   "cell_type": "code",
   "execution_count": 79,
   "id": "6ea632b9",
   "metadata": {},
   "outputs": [
    {
     "data": {
      "text/plain": [
       "10193"
      ]
     },
     "execution_count": 79,
     "metadata": {},
     "output_type": "execute_result"
    }
   ],
   "source": [
    "binIndex = 19\n",
    "precision = 4\n",
    "(  ((10**precision)*(11**binIndex))//(10**binIndex) )  // (((11**19))//(10**19))"
   ]
  },
  {
   "cell_type": "code",
   "execution_count": 93,
   "id": "f62ad5c7",
   "metadata": {},
   "outputs": [
    {
     "name": "stdout",
     "output_type": "stream",
     "text": [
      "100\n",
      "120\n",
      "144\n",
      "172\n",
      "207\n",
      "248\n",
      "298\n",
      "358\n",
      "429\n",
      "515\n",
      "619\n",
      "743\n",
      "891\n",
      "1069\n",
      "1283\n",
      "1540\n",
      "1848\n",
      "2218\n",
      "2662\n"
     ]
    }
   ],
   "source": [
    "for k in range(19):\n",
    "    print(math.floor(100*1.2**k))"
   ]
  },
  {
   "cell_type": "code",
   "execution_count": 89,
   "id": "e3c1cb0f",
   "metadata": {},
   "outputs": [
    {
     "name": "stdout",
     "output_type": "stream",
     "text": [
      "100\n",
      "83\n",
      "69\n",
      "57\n",
      "48\n",
      "40\n",
      "33\n",
      "27\n",
      "23\n",
      "19\n",
      "16\n",
      "13\n",
      "11\n",
      "9\n",
      "7\n",
      "6\n",
      "5\n",
      "4\n",
      "3\n"
     ]
    }
   ],
   "source": [
    "for k in range(19):\n",
    "    print(math.floor(100*1.2**-k))"
   ]
  },
  {
   "cell_type": "code",
   "execution_count": 141,
   "id": "3b746a23",
   "metadata": {},
   "outputs": [
    {
     "data": {
      "text/plain": [
       "9"
      ]
     },
     "execution_count": 141,
     "metadata": {},
     "output_type": "execute_result"
    }
   ],
   "source": [
    "(5**10)//(4**10)"
   ]
  },
  {
   "cell_type": "code",
   "execution_count": null,
   "id": "10a48ae4",
   "metadata": {},
   "outputs": [],
   "source": [
    "balAPair  405879n\n",
    "balBPair  1055012n\n",
    "\n",
    "Amount Sold A:  2003000n\n",
    "Amount Bought B:  736388n\n",
    "balAPair  2408879n\n",
    "balBPair  318624n\n"
   ]
  },
  {
   "cell_type": "code",
   "execution_count": 143,
   "id": "314b54c1",
   "metadata": {},
   "outputs": [
    {
     "data": {
      "text/plain": [
       "2408879"
      ]
     },
     "execution_count": 143,
     "metadata": {},
     "output_type": "execute_result"
    }
   ],
   "source": [
    "405879+2003000"
   ]
  },
  {
   "cell_type": "code",
   "execution_count": 144,
   "id": "90672a16",
   "metadata": {},
   "outputs": [
    {
     "data": {
      "text/plain": [
       "318624"
      ]
     },
     "execution_count": 144,
     "metadata": {},
     "output_type": "execute_result"
    }
   ],
   "source": [
    "1055012-736388"
   ]
  },
  {
   "cell_type": "code",
   "execution_count": null,
   "id": "41c93682",
   "metadata": {},
   "outputs": [],
   "source": []
  },
  {
   "cell_type": "code",
   "execution_count": 142,
   "id": "b15c6cda",
   "metadata": {},
   "outputs": [
    {
     "name": "stdout",
     "output_type": "stream",
     "text": [
      "8\n",
      "PERC 1.25\n",
      "10\n",
      "PERC 1.4\n",
      "14\n",
      "PERC 1.2857142857142858\n",
      "18\n",
      "PERC 1.3333333333333333\n",
      "24\n",
      "PERC 1.25\n",
      "30\n",
      "PERC 1.3\n",
      "39\n",
      "PERC 1.2564102564102564\n",
      "49\n",
      "PERC 1.2857142857142858\n",
      "63\n",
      "PERC 1.253968253968254\n",
      "79\n",
      "PERC 1.2658227848101267\n",
      "100\n",
      "PERC 1.26\n",
      "126\n",
      "PERC 1.253968253968254\n",
      "158\n",
      "PERC 1.259493670886076\n",
      "199\n",
      "PERC 1.2512562814070352\n",
      "249\n",
      "PERC 1.2530120481927711\n",
      "312\n",
      "PERC 1.2532051282051282\n",
      "391\n",
      "PERC 1.2531969309462916\n",
      "490\n",
      "PERC 1.2510204081632652\n",
      "613\n",
      "PERC 1.2512234910277324\n",
      "767\n",
      "PERC 1.2516297262059974\n",
      "960\n"
     ]
    }
   ],
   "source": [
    "for binIndex in range(21):\n",
    "    new =  int(  ((100*(5**binIndex))//(4**binIndex)) // ( (5**10)//(4**10) ) -3 )\n",
    "    if binIndex>0:\n",
    "        print(\"PERC\" , new/old)\n",
    "    print( new)\n",
    "    old = new"
   ]
  },
  {
   "cell_type": "code",
   "execution_count": 126,
   "id": "c6e79029",
   "metadata": {},
   "outputs": [
    {
     "data": {
      "text/plain": [
       "1.256916996047431"
      ]
     },
     "execution_count": 126,
     "metadata": {},
     "output_type": "execute_result"
    }
   ],
   "source": [
    "318/253"
   ]
  },
  {
   "cell_type": "code",
   "execution_count": 138,
   "id": "279a6476",
   "metadata": {},
   "outputs": [
    {
     "data": {
      "text/plain": [
       "100000.0"
      ]
     },
     "execution_count": 138,
     "metadata": {},
     "output_type": "execute_result"
    }
   ],
   "source": [
    "1.60*21270+65968"
   ]
  },
  {
   "cell_type": "code",
   "execution_count": 118,
   "id": "e714f1ed",
   "metadata": {},
   "outputs": [
    {
     "data": {
      "text/plain": [
       "7"
      ]
     },
     "execution_count": 118,
     "metadata": {},
     "output_type": "execute_result"
    }
   ],
   "source": [
    "(5**9)//(4**9)"
   ]
  },
  {
   "cell_type": "markdown",
   "id": "4b68a355",
   "metadata": {},
   "source": [
    "# binIndex = 10\n",
    "\n",
    "int(  ((100*(5**binIndex))//(4**binIndex)) // ( (5**10)//(4**10) )  )"
   ]
  },
  {
   "cell_type": "code",
   "execution_count": 109,
   "id": "a7539834",
   "metadata": {},
   "outputs": [
    {
     "data": {
      "text/plain": [
       "5577879"
      ]
     },
     "execution_count": 109,
     "metadata": {},
     "output_type": "execute_result"
    }
   ],
   "source": [
    "4294967296 // 770"
   ]
  },
  {
   "cell_type": "code",
   "execution_count": 110,
   "id": "0ca8e906",
   "metadata": {},
   "outputs": [
    {
     "data": {
      "text/plain": [
       "4294966830"
      ]
     },
     "execution_count": 110,
     "metadata": {},
     "output_type": "execute_result"
    }
   ],
   "source": [
    "5577879*770"
   ]
  }
 ],
 "metadata": {
  "kernelspec": {
   "display_name": "Python 3 (ipykernel)",
   "language": "python",
   "name": "python3"
  },
  "language_info": {
   "codemirror_mode": {
    "name": "ipython",
    "version": 3
   },
   "file_extension": ".py",
   "mimetype": "text/x-python",
   "name": "python",
   "nbconvert_exporter": "python",
   "pygments_lexer": "ipython3",
   "version": "3.8.12"
  }
 },
 "nbformat": 4,
 "nbformat_minor": 5
}
